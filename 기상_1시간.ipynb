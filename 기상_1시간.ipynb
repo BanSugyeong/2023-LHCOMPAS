{
  "nbformat": 4,
  "nbformat_minor": 0,
  "metadata": {
    "colab": {
      "provenance": []
    },
    "kernelspec": {
      "name": "python3",
      "display_name": "Python 3"
    },
    "language_info": {
      "name": "python"
    }
  },
  "cells": [
    {
      "cell_type": "code",
      "execution_count": null,
      "metadata": {
        "id": "dv1GW13FY5gZ"
      },
      "outputs": [],
      "source": [
        "import requests\n",
        "import warnings\n",
        "\n",
        "# API 호출을 위한 기본 URL과 쿼리 파라미터 설정\n",
        "base_url = 'https://apis.data.go.kr/1360000/VilageFcstInfoService/getVilageFcst'\n",
        "service_key = 'fLxDJX2yVv%2B4hYgYztIsTtNConn2drYCydwfj2BQYfBYv3AE4zvbrLpoQJ9qLBKtW6N7YesqmGluRa0UprNulQ%3D%3D'\n",
        "base_date = '20211001'\n",
        "base_time = '1100'\n",
        "nx = '55'  # 예보지점 x좌표\n",
        "ny = '127'  # 예보지점 y좌표\n",
        "\n",
        "start_date = '20211001'\n",
        "end_date = '20220930'\n",
        "start_time = '1100'\n",
        "end_time = '1200'\n",
        "\n",
        "# 날짜 범위에 해당하는 데이터 가져오기\n",
        "date = start_date\n",
        "while date <= end_date:\n",
        "    for time in range(int(start_time), int(end_time) + 1, 100):\n",
        "        # 쿼리 파라미터 설정\n",
        "        query_params = f'?serviceKey={service_key}&dataType=JSON&base_date={date}&base_time={str(time).zfill(4)}&nx={nx}&ny={ny}'\n",
        "\n",
        "        # API 호출\n",
        "        warnings.filterwarnings('ignore', 'Unverified HTTPS request')\n",
        "        response = requests.get(base_url + query_params, verify=False)\n",
        "        data = response.json()\n",
        "\n",
        "        # 데이터 확인 및 처리\n",
        "        if 'response' in data and 'body' in data['response'] and 'items' in data['response']['body']:\n",
        "            items = data['response']['body']['items']['item']\n",
        "            for item in items:\n",
        "                category = item['category']\n",
        "                fcst_value = item['fcstValue']\n",
        "                print(f\"Date: {date}, Time: {str(time).zfill(4)}, Category: {category}, Forecast Value: {fcst_value}\")\n",
        "        else:\n",
        "            print(f\"데이터를 가져올 수 없습니다. Date: {date}, Time: {str(time).zfill(4)}\")\n",
        "\n",
        "    # 다음 날짜로 이동\n",
        "    year = int(date[:4])\n",
        "    month = int(date[4:6])\n",
        "    day = int(date[6:])\n",
        "    next_date = datetime.date(year, month, day) + datetime.timedelta(days=1)\n",
        "    date = next_date.strftime('%Y%m%d')"
      ]
    }
  ]
}