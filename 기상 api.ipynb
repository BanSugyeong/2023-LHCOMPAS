{
  "nbformat": 4,
  "nbformat_minor": 0,
  "metadata": {
    "colab": {
      "provenance": []
    },
    "kernelspec": {
      "name": "python3",
      "display_name": "Python 3"
    },
    "language_info": {
      "name": "python"
    }
  },
  "cells": [
    {
      "cell_type": "code",
      "execution_count": 2,
      "metadata": {
        "id": "fHgOmnLPHWg4"
      },
      "outputs": [],
      "source": [
        "import requests\n",
        "import json"
      ]
    },
    {
      "cell_type": "code",
      "source": [
        "class WeatherData:\n",
        "    def __init__(self):\n",
        "        self.nx = \"\"                # 위도\n",
        "        self.ny = \"\"                # 경도\n",
        "        self.baseDate = \"20211001\"  # 조회하고 싶은 시작 날짜 (YYYYMMDD 형식)\n",
        "        self.endDate = \"20220930\"   # 조회하고 싶은 종료 날짜 (YYYYMMDD 형식)\n",
        "        self.baseTime = \"1600\"      # 조회하고 싶은 시간\n",
        "        self.type = \"json\"          # 조회하고 싶은 타입(json, xml 중 선택)\n",
        "\n",
        "    def lookUpWeather(self):\n",
        "        # 참고문서에 있는 URL 주소\n",
        "        apiUrl = \"http://apis.data.go.kr/1360000/VilageFcstInfoService_2.0\"\n",
        "        # 홈페이지에서 받은 키\n",
        "        serviceKey = \"fLxDJX2yVv%2B4hYgYztIsTtNConn2drYCydwfj2BQYfBYv3AE4zvbrLpoQJ9qLBKtW6N7YesqmGluRa0UprNulQ%3D%3D\"\n",
        "\n",
        "        # GET 방식으로 전송할 파라미터 설정\n",
        "        params = {\n",
        "            \"ServiceKey\": serviceKey,\n",
        "            \"nx\": self.nx,\n",
        "            \"ny\": self.ny,\n",
        "            \"base_date\": self.baseDate,\n",
        "            \"end_date\": self.endDate,\n",
        "            \"base_time\": self.baseTime,\n",
        "            \"dataType\": self.type\n",
        "        }\n",
        "\n",
        "        # GET 요청 보내기\n",
        "        response = requests.get(apiUrl, params=params)\n",
        "        response.raise_for_status()  # 에러 발생 시 예외 처리\n",
        "\n",
        "        # JSON 파싱\n",
        "        data = response.json()\n",
        "\n",
        "        # 데이터 파싱\n",
        "        items = data['response']['body']['items']['item']\n",
        "        weather = \"\"\n",
        "        temperature = \"\"\n",
        "\n",
        "        for item in items:\n",
        "            fcstValue = item['fcstValue']\n",
        "            category = item['category']\n",
        "\n",
        "            if category == \"SKY\":\n",
        "                weather = \"현재 날씨는 \"\n",
        "                if fcstValue == \"1\":\n",
        "                    weather += \"맑은 상태로\"\n",
        "                elif fcstValue == \"2\":\n",
        "                    weather += \"비가 오는 상태로\"\n",
        "                elif fcstValue == \"3\":\n",
        "                    weather += \"구름이 많은 상태로\"\n",
        "                elif fcstValue == \"4\":\n",
        "                    weather += \"흐린 상태로\"\n",
        "\n",
        "            if category == \"T3H\" or category == \"T1H\":\n",
        "                temperature = \"기온은 {}℃ 입니다.\".format(fcstValue)\n",
        "\n",
        "            print(\"날씨 정보:\", weather + temperature)\n",
        "\n",
        "# WeatherData 클래스의 인스턴스 생성\n",
        "weather_data = WeatherData()\n",
        "\n",
        "# lookUpWeather 메서드 호출\n",
        "weather_data.lookUpWeather()"
      ],
      "metadata": {
        "id": "FecthgE9II1p"
      },
      "execution_count": null,
      "outputs": []
    }
  ]
}