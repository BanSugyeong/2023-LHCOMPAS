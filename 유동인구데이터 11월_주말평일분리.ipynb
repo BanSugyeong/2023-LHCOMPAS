{
 "cells": [
  {
   "cell_type": "markdown",
   "id": "66574884",
   "metadata": {},
   "source": [
    "## 유동인구 데이터 2022.04 ~ 2022.09\n",
    "### 주말, 평일 분리"
   ]
  },
  {
   "cell_type": "code",
   "execution_count": 1,
   "id": "e0eb9b26",
   "metadata": {},
   "outputs": [],
   "source": [
    "import pandas as pd\n",
    "import numpy as np\n",
    "import datetime"
   ]
  },
  {
   "cell_type": "code",
   "execution_count": 2,
   "id": "2a1102e0",
   "metadata": {},
   "outputs": [],
   "source": [
    "df1 = pd.read_csv('유동인구데이터_22년11월.csv', encoding='cp949', index_col=0)"
   ]
  },
  {
   "cell_type": "code",
   "execution_count": 3,
   "id": "ee5c94e3",
   "metadata": {},
   "outputs": [],
   "source": [
    "def split_weekend_weekday(start_date, end_date):\n",
    "    weekend_data = []\n",
    "    weekday_data = []ㄴ\n",
    "\n",
    "    date = start_date\n",
    "    while date <= end_date:\n",
    "        if date.weekday() < 5:  # 0은 월요일, 4는 금요일을 의미합니다.\n",
    "            weekday_data.append(date.strftime(\"%d\"))\n",
    "        else:\n",
    "            weekend_data.append(date.strftime(\"%d\"))\n",
    "        date += datetime.timedelta(days=1)\n",
    "\n",
    "        # 다음달 1일로 이동\n",
    "        if date.day == 1:\n",
    "            date = date.replace(year=date.year + 1, month=1)\n",
    "            # 오류해결 : (day=1, month=date.month + 1) => (year=date.year + 1, month=1)\n",
    "\n",
    "    return weekend_data, weekday_data"
   ]
  },
  {
   "cell_type": "markdown",
   "id": "bf0a8dd3",
   "metadata": {},
   "source": [
    "### 21년 11월"
   ]
  },
  {
   "cell_type": "code",
   "execution_count": 5,
   "id": "b302be0a",
   "metadata": {},
   "outputs": [
    {
     "name": "stdout",
     "output_type": "stream",
     "text": [
      "주말 데이터: ['06', '07', '13', '14', '20', '21', '27', '28']\n",
      "평일 데이터: ['01', '02', '03', '04', '05', '08', '09', '10', '11', '12', '15', '16', '17', '18', '19', '22', '23', '24', '25', '26', '29', '30']\n"
     ]
    }
   ],
   "source": [
    "start_date = datetime.datetime(2021, 11, 1)\n",
    "end_date = datetime.datetime(2021, 11, 30)\n",
    "\n",
    "weekend, weekday = split_weekend_weekday(start_date, end_date)\n",
    "\n",
    "print(\"주말 데이터:\", weekend)\n",
    "print(\"평일 데이터:\", weekday)"
   ]
  },
  {
   "cell_type": "code",
   "execution_count": 6,
   "id": "5572ee5f",
   "metadata": {},
   "outputs": [],
   "source": [
    "# 주말, 평일 리스트\n",
    "wk_list_11 = [6, 7, 13, 14, 20, 21, 27, 28]\n",
    "wd_list_11 = [1, 2, 3, 4, 5, 8, 9, 10, 11, 12, 15, 16, 17, 18, 19, 22, 23, 24, 25, 26, 29, 30]\n",
    "\n",
    "# 결과값 저장할 리스트\n",
    "wk_result_11 = []\n",
    "wd_result_11 = []\n",
    "\n",
    "for wk in wk_list_11:\n",
    "    result = df1[df1['기준_일'] == wk]\n",
    "    wk_result_11.append(result)\n",
    "    \n",
    "for wd in wd_list_11:\n",
    "    result = df1[df1['기준_일'] == wd]\n",
    "    wd_result_11.append(result)\n",
    "    \n",
    "# 주말, 평일 결과를 하나의 리스트로 통합\n",
    "wk_concat_11 = pd.concat([result for result in wk_result_11])\n",
    "wd_concat_11 = pd.concat([result for result in wd_result_11])"
   ]
  },
  {
   "cell_type": "code",
   "execution_count": 7,
   "id": "d84002f9",
   "metadata": {
    "scrolled": false
   },
   "outputs": [],
   "source": [
    "wk1 = wk_concat_11\n",
    "wk1.to_csv('유동인구데이터_22년11월_주말.csv', encoding='cp949')"
   ]
  },
  {
   "cell_type": "code",
   "execution_count": 8,
   "id": "c4c740de",
   "metadata": {},
   "outputs": [],
   "source": [
    "wd1 = wd_concat_11\n",
    "wd1.to_csv('유동인구데이터_22년11월_평일.csv', encoding='cp949')"
   ]
  }
 ],
 "metadata": {
  "kernelspec": {
   "display_name": "Python 3 (ipykernel)",
   "language": "python",
   "name": "python3"
  },
  "language_info": {
   "codemirror_mode": {
    "name": "ipython",
    "version": 3
   },
   "file_extension": ".py",
   "mimetype": "text/x-python",
   "name": "python",
   "nbconvert_exporter": "python",
   "pygments_lexer": "ipython3",
   "version": "3.10.9"
  }
 },
 "nbformat": 4,
 "nbformat_minor": 5
}
