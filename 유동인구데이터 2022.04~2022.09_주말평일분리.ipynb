{
 "cells": [
  {
   "cell_type": "markdown",
   "id": "66574884",
   "metadata": {},
   "source": [
    "## 유동인구 데이터 2022.04 ~ 2022.09\n",
    "### 주말, 평일 분리"
   ]
  },
  {
   "cell_type": "code",
   "execution_count": 15,
   "id": "e0eb9b26",
   "metadata": {},
   "outputs": [],
   "source": [
    "import pandas as pd\n",
    "import numpy as np\n",
    "import datetime"
   ]
  },
  {
   "cell_type": "code",
   "execution_count": 21,
   "id": "2a1102e0",
   "metadata": {},
   "outputs": [],
   "source": [
    "df1 = pd.read_csv('유동인구데이터_22년4월.csv', encoding='cp949', index_col=0)\n",
    "df2 = pd.read_csv('유동인구데이터_22년5월.csv', encoding='cp949', index_col=0)\n",
    "df3 = pd.read_csv('유동인구데이터_22년6월.csv', encoding='cp949', index_col=0)\n",
    "df4 = pd.read_csv('유동인구데이터_22년7월.csv', encoding='cp949', index_col=0)\n",
    "df5 = pd.read_csv('유동인구데이터_22년8월.csv', encoding='cp949', index_col=0)\n",
    "df6 = pd.read_csv('유동인구데이터_22년9월.csv', encoding='cp949', index_col=0)"
   ]
  },
  {
   "cell_type": "code",
   "execution_count": 22,
   "id": "ee5c94e3",
   "metadata": {},
   "outputs": [],
   "source": [
    "def split_weekend_weekday(start_date, end_date):\n",
    "    weekend_data = []\n",
    "    weekday_data = []\n",
    "\n",
    "    date = start_date\n",
    "    while date <= end_date:\n",
    "        if date.weekday() < 5:  # 0은 월요일, 4는 금요일을 의미합니다.\n",
    "            weekday_data.append(date.strftime(\"%d\"))\n",
    "        else:\n",
    "            weekend_data.append(date.strftime(\"%d\"))\n",
    "        date += datetime.timedelta(days=1)\n",
    "\n",
    "        # 다음달 1일로 이동\n",
    "        if date.day == 1:\n",
    "            date = date.replace(day=1, month=date.month + 1)\n",
    "\n",
    "    return weekend_data, weekday_data"
   ]
  },
  {
   "cell_type": "markdown",
   "id": "bf0a8dd3",
   "metadata": {},
   "source": [
    "### 22년 4월"
   ]
  },
  {
   "cell_type": "code",
   "execution_count": 23,
   "id": "b302be0a",
   "metadata": {},
   "outputs": [
    {
     "name": "stdout",
     "output_type": "stream",
     "text": [
      "주말 데이터: ['02', '03', '09', '10', '16', '17', '23', '24', '30']\n",
      "평일 데이터: ['01', '04', '05', '06', '07', '08', '11', '12', '13', '14', '15', '18', '19', '20', '21', '22', '25', '26', '27', '28', '29']\n"
     ]
    }
   ],
   "source": [
    "start_date = datetime.datetime(2022, 4, 1)\n",
    "end_date = datetime.datetime(2022, 4, 30)\n",
    "\n",
    "weekend, weekday = split_weekend_weekday(start_date, end_date)\n",
    "\n",
    "print(\"주말 데이터:\", weekend)\n",
    "print(\"평일 데이터:\", weekday)"
   ]
  },
  {
   "cell_type": "code",
   "execution_count": 57,
   "id": "5572ee5f",
   "metadata": {},
   "outputs": [],
   "source": [
    "# 주말, 평일 리스트\n",
    "wk_list_4 = [2, 3, 9, 10, 16, 17, 23, 24, 30]\n",
    "wd_list_4 = [1, 4, 5, 6, 7, 8, 11, 12, 13, 14, 15, 18, 19, 20, 21, 22, 25, 26, 27, 28, 29]\n",
    "\n",
    "# 결과값 저장할 리스트\n",
    "wk_result_4 = []\n",
    "wd_result_4 = []\n",
    "\n",
    "for wk in wk_list_4:\n",
    "    result = df1[df1['기준_일'] == wk]\n",
    "    wk_result_4.append(result)\n",
    "    \n",
    "for wd in wd_list_4:\n",
    "    result = df1[df1['기준_일'] == wd]\n",
    "    wd_result_4.append(result)\n",
    "    \n",
    "# 주말, 평일 결과를 하나의 리스트로 통합\n",
    "wk_concat_4 = pd.concat([result for result in wk_result_4])\n",
    "wd_concat_4 = pd.concat([result for result in wd_result_4])"
   ]
  },
  {
   "cell_type": "code",
   "execution_count": 61,
   "id": "d84002f9",
   "metadata": {
    "scrolled": false
   },
   "outputs": [],
   "source": [
    "wk1 = wk_concat_4\n",
    "wk1.to_csv('유동인구데이터_22년4월_주말.csv', encoding='cp949')"
   ]
  },
  {
   "cell_type": "code",
   "execution_count": 62,
   "id": "c4c740de",
   "metadata": {},
   "outputs": [],
   "source": [
    "wd1 = wd_concat_4\n",
    "wd1.to_csv('유동인구데이터_22년4월_평일.csv', encoding='cp949')"
   ]
  },
  {
   "cell_type": "markdown",
   "id": "337f78eb",
   "metadata": {},
   "source": [
    "### 22년 5월"
   ]
  },
  {
   "cell_type": "code",
   "execution_count": 63,
   "id": "9fd808a3",
   "metadata": {},
   "outputs": [
    {
     "name": "stdout",
     "output_type": "stream",
     "text": [
      "주말 데이터: ['01', '07', '08', '14', '15', '21', '22', '28', '29']\n",
      "평일 데이터: ['02', '03', '04', '05', '06', '09', '10', '11', '12', '13', '16', '17', '18', '19', '20', '23', '24', '25', '26', '27', '30', '31']\n"
     ]
    }
   ],
   "source": [
    "start_date = datetime.datetime(2022, 5, 1)\n",
    "end_date = datetime.datetime(2022, 5, 31)\n",
    "\n",
    "weekend, weekday = split_weekend_weekday(start_date, end_date)\n",
    "\n",
    "print(\"주말 데이터:\", weekend)\n",
    "print(\"평일 데이터:\", weekday)"
   ]
  },
  {
   "cell_type": "code",
   "execution_count": 67,
   "id": "3ea14930",
   "metadata": {},
   "outputs": [],
   "source": [
    "wk_list_5 = [1, 7, 8, 14, 15, 21, 22, 28, 29]\n",
    "wd_list_5 = [2,3,4,5,6,9,10,11,12,13,16,17,18,19,20,23,24,25,26,27,30,31]\n",
    "\n",
    "wk_result_5 = []\n",
    "wd_result_5 = []\n",
    "\n",
    "for wk in wk_list_5:\n",
    "    result = df2[df2['기준_일'] == wk]\n",
    "    wk_result_5.append(result)\n",
    "    \n",
    "for wd in wd_list_5:\n",
    "    result = df2[df2['기준_일'] == wd]\n",
    "    wd_result_5.append(result)\n",
    "    \n",
    "wk_concat_5 = pd.concat([result for result in wk_result_5])\n",
    "wd_concat_5 = pd.concat([result for result in wd_result_5])\n",
    "\n",
    "wk2 = wk_concat_5\n",
    "wd2 = wd_concat_5\n",
    "wk2.to_csv('유동인구데이터_22년5월_주말.csv', encoding='cp949')\n",
    "wd2.to_csv('유동인구데이터_22년5월_평일.csv', encoding='cp949')"
   ]
  },
  {
   "cell_type": "markdown",
   "id": "9d45b691",
   "metadata": {},
   "source": [
    "### 22년 6월"
   ]
  },
  {
   "cell_type": "code",
   "execution_count": 66,
   "id": "2748f6f8",
   "metadata": {},
   "outputs": [
    {
     "name": "stdout",
     "output_type": "stream",
     "text": [
      "주말 데이터: ['04', '05', '11', '12', '18', '19', '25', '26']\n",
      "평일 데이터: ['01', '02', '03', '06', '07', '08', '09', '10', '13', '14', '15', '16', '17', '20', '21', '22', '23', '24', '27', '28', '29', '30']\n"
     ]
    }
   ],
   "source": [
    "start_date = datetime.datetime(2022, 6, 1)\n",
    "end_date = datetime.datetime(2022, 6, 30)\n",
    "\n",
    "weekend, weekday = split_weekend_weekday(start_date, end_date)\n",
    "\n",
    "print(\"주말 데이터:\", weekend)\n",
    "print(\"평일 데이터:\", weekday)"
   ]
  },
  {
   "cell_type": "code",
   "execution_count": 69,
   "id": "572c328e",
   "metadata": {},
   "outputs": [],
   "source": [
    "wk_list_6 = [4,5,11,12,18,19,25,26]\n",
    "wd_list_6 = [1,2,3,6,7,8,9,10,13,14,15,16,17,20,21,22,23,24,27,28,29,30]\n",
    "\n",
    "wk_result_6 = []\n",
    "wd_result_6 = []\n",
    "\n",
    "for wk in wk_list_6:\n",
    "    result = df3[df3['기준_일'] == wk]\n",
    "    wk_result_6.append(result)\n",
    "    \n",
    "for wd in wd_list_6:\n",
    "    result = df3[df3['기준_일'] == wd]\n",
    "    wd_result_6.append(result)\n",
    "    \n",
    "wk_concat_6 = pd.concat([result for result in wk_result_6])\n",
    "wd_concat_6 = pd.concat([result for result in wd_result_6])\n",
    "\n",
    "wk3 = wk_concat_6\n",
    "wd3 = wd_concat_6\n",
    "wk3.to_csv('유동인구데이터_22년6월_주말.csv', encoding='cp949')\n",
    "wd3.to_csv('유동인구데이터_22년6월_평일.csv', encoding='cp949')"
   ]
  },
  {
   "cell_type": "markdown",
   "id": "2cfb5804",
   "metadata": {},
   "source": [
    "### 22년 7월"
   ]
  },
  {
   "cell_type": "code",
   "execution_count": 70,
   "id": "10c49850",
   "metadata": {},
   "outputs": [
    {
     "name": "stdout",
     "output_type": "stream",
     "text": [
      "주말 데이터: ['02', '03', '09', '10', '16', '17', '23', '24', '30', '31']\n",
      "평일 데이터: ['01', '04', '05', '06', '07', '08', '11', '12', '13', '14', '15', '18', '19', '20', '21', '22', '25', '26', '27', '28', '29']\n"
     ]
    }
   ],
   "source": [
    "start_date = datetime.datetime(2022, 7, 1)\n",
    "end_date = datetime.datetime(2022, 7, 31)\n",
    "\n",
    "weekend, weekday = split_weekend_weekday(start_date, end_date)\n",
    "\n",
    "print(\"주말 데이터:\", weekend)\n",
    "print(\"평일 데이터:\", weekday)"
   ]
  },
  {
   "cell_type": "code",
   "execution_count": 74,
   "id": "50b09b53",
   "metadata": {},
   "outputs": [],
   "source": [
    "wk_list_7 = [2,3,9,10,16,17,23,24,30,31]\n",
    "wd_list_7 = [1,4,5,6,7,8,11,12,13,14,15,18,19,20,21,22,25,26,27,28,29]\n",
    "\n",
    "wk_result_7 = []\n",
    "wd_result_7 = []\n",
    "\n",
    "for wk in wk_list_7:\n",
    "    result = df4[df4['기준_일'] == wk]\n",
    "    wk_result_7.append(result)\n",
    "    \n",
    "for wd in wd_list_7:\n",
    "    result = df4[df4['기준_일'] == wd]\n",
    "    wd_result_7.append(result)\n",
    "    \n",
    "wk_concat_7 = pd.concat([result for result in wk_result_7])\n",
    "wd_concat_7 = pd.concat([result for result in wd_result_7])\n",
    "\n",
    "wk4 = wk_concat_7\n",
    "wd4 = wd_concat_7\n",
    "wk4.to_csv('유동인구데이터_22년7월_주말.csv', encoding='cp949')\n",
    "wd4.to_csv('유동인구데이터_22년7월_평일.csv', encoding='cp949')"
   ]
  },
  {
   "cell_type": "markdown",
   "id": "bcc19580",
   "metadata": {},
   "source": [
    "### 22년 8월"
   ]
  },
  {
   "cell_type": "code",
   "execution_count": 71,
   "id": "d7c0c4d2",
   "metadata": {},
   "outputs": [
    {
     "name": "stdout",
     "output_type": "stream",
     "text": [
      "주말 데이터: ['06', '07', '13', '14', '20', '21', '27', '28']\n",
      "평일 데이터: ['01', '02', '03', '04', '05', '08', '09', '10', '11', '12', '15', '16', '17', '18', '19', '22', '23', '24', '25', '26', '29', '30', '31']\n"
     ]
    }
   ],
   "source": [
    "start_date = datetime.datetime(2022, 8, 1)\n",
    "end_date = datetime.datetime(2022, 8, 31)\n",
    "\n",
    "weekend, weekday = split_weekend_weekday(start_date, end_date)\n",
    "\n",
    "print(\"주말 데이터:\", weekend)\n",
    "print(\"평일 데이터:\", weekday)"
   ]
  },
  {
   "cell_type": "code",
   "execution_count": 75,
   "id": "3d741286",
   "metadata": {},
   "outputs": [],
   "source": [
    "wk_list_8 = [6,7,13,14,20,21,27,28]\n",
    "wd_list_8 = [1,2,3,4,5,8,9,10,11,12,15,16,17,18,19,22,23,24,25,26,29,30,31]\n",
    "\n",
    "wk_result_8 = []\n",
    "wd_result_8 = []\n",
    "\n",
    "for wk in wk_list_8:\n",
    "    result = df5[df5['기준_일'] == wk]\n",
    "    wk_result_8.append(result)\n",
    "    \n",
    "for wd in wd_list_8:\n",
    "    result = df5[df5['기준_일'] == wd]\n",
    "    wd_result_8.append(result)\n",
    "    \n",
    "wk_concat_8 = pd.concat([result for result in wk_result_8])\n",
    "wd_concat_8 = pd.concat([result for result in wd_result_8])\n",
    "\n",
    "wk5 = wk_concat_8\n",
    "wd5 = wd_concat_8\n",
    "wk5.to_csv('유동인구데이터_22년8월_주말.csv', encoding='cp949')\n",
    "wd5.to_csv('유동인구데이터_22년8월_평일.csv', encoding='cp949')"
   ]
  },
  {
   "cell_type": "markdown",
   "id": "2f50fc4e",
   "metadata": {},
   "source": [
    "### 22년 9월"
   ]
  },
  {
   "cell_type": "code",
   "execution_count": 72,
   "id": "64c7099f",
   "metadata": {},
   "outputs": [
    {
     "name": "stdout",
     "output_type": "stream",
     "text": [
      "주말 데이터: ['03', '04', '10', '11', '17', '18', '24', '25']\n",
      "평일 데이터: ['01', '02', '05', '06', '07', '08', '09', '12', '13', '14', '15', '16', '19', '20', '21', '22', '23', '26', '27', '28', '29', '30']\n"
     ]
    }
   ],
   "source": [
    "start_date = datetime.datetime(2022, 9, 1)\n",
    "end_date = datetime.datetime(2022, 9, 30)\n",
    "\n",
    "weekend, weekday = split_weekend_weekday(start_date, end_date)\n",
    "\n",
    "print(\"주말 데이터:\", weekend)\n",
    "print(\"평일 데이터:\", weekday)"
   ]
  },
  {
   "cell_type": "code",
   "execution_count": 76,
   "id": "4ac19417",
   "metadata": {},
   "outputs": [],
   "source": [
    "wk_list_9 = [3,4,10,11,17,18,24,25]\n",
    "wd_list_9 = [1,2,5,6,7,8,9,12,13,14,15,16,19,20,21,22,23,26,27,28,29,30]\n",
    "\n",
    "wk_result_9 = []\n",
    "wd_result_9 = []\n",
    "\n",
    "for wk in wk_list_9:\n",
    "    result = df6[df6['기준_일'] == wk]\n",
    "    wk_result_9.append(result)\n",
    "    \n",
    "for wd in wd_list_9:\n",
    "    result = df6[df6['기준_일'] == wd]\n",
    "    wd_result_9.append(result)\n",
    "    \n",
    "wk_concat_9 = pd.concat([result for result in wk_result_9])\n",
    "wd_concat_9 = pd.concat([result for result in wd_result_9])\n",
    "\n",
    "wk6 = wk_concat_9\n",
    "wd6 = wd_concat_9\n",
    "wk6.to_csv('유동인구데이터_22년9월_주말.csv', encoding='cp949')\n",
    "wd6.to_csv('유동인구데이터_22년9월_평일.csv', encoding='cp949')"
   ]
  },
  {
   "cell_type": "code",
   "execution_count": null,
   "id": "137b2093",
   "metadata": {},
   "outputs": [],
   "source": []
  }
 ],
 "metadata": {
  "kernelspec": {
   "display_name": "Python 3 (ipykernel)",
   "language": "python",
   "name": "python3"
  },
  "language_info": {
   "codemirror_mode": {
    "name": "ipython",
    "version": 3
   },
   "file_extension": ".py",
   "mimetype": "text/x-python",
   "name": "python",
   "nbconvert_exporter": "python",
   "pygments_lexer": "ipython3",
   "version": "3.9.13"
  }
 },
 "nbformat": 4,
 "nbformat_minor": 5
}
