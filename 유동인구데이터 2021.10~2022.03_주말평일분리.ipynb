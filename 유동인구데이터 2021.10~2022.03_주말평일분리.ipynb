{
 "cells": [
  {
   "cell_type": "markdown",
   "id": "66574884",
   "metadata": {},
   "source": [
    "## 유동인구 데이터 2021.10 ~ 2022.03\n",
    "### 주말, 평일 분리"
   ]
  },
  {
   "cell_type": "code",
   "execution_count": 23,
   "id": "e0eb9b26",
   "metadata": {},
   "outputs": [],
   "source": [
    "import pandas as pd\n",
    "import numpy as np\n",
    "import datetime"
   ]
  },
  {
   "cell_type": "code",
   "execution_count": 27,
   "id": "2a1102e0",
   "metadata": {},
   "outputs": [],
   "source": [
    "df1 = pd.read_csv('유동인구데이터_21년10월.csv', encoding='cp949', index_col=0)\n",
    "df2 = pd.read_csv('유동인구데이터_21년11월.csv', encoding='cp949', index_col=0)\n",
    "df3 = pd.read_csv('유동인구데이터_21년12월.csv', encoding='cp949', index_col=0)\n",
    "df4 = pd.read_csv('유동인구데이터_22년1월.csv', encoding='cp949', index_col=0)\n",
    "df5 = pd.read_csv('유동인구데이터_22년2월.csv', encoding='cp949', index_col=0)\n",
    "df6 = pd.read_csv('유동인구데이터_22년3월.csv', encoding='cp949', index_col=0)"
   ]
  },
  {
   "cell_type": "code",
   "execution_count": 28,
   "id": "ee5c94e3",
   "metadata": {},
   "outputs": [],
   "source": [
    "def split_weekend_weekday(start_date, end_date):\n",
    "    weekend_data = []\n",
    "    weekday_data = []\n",
    "\n",
    "    date = start_date\n",
    "    while date <= end_date:\n",
    "        if date.weekday() < 5:  # 0은 월요일, 4는 금요일을 의미합니다.\n",
    "            weekday_data.append(date.strftime(\"%d\"))\n",
    "        else:\n",
    "            weekend_data.append(date.strftime(\"%d\"))\n",
    "        date += datetime.timedelta(days=1)\n",
    "\n",
    "        # 다음달 1일로 이동\n",
    "        if date.day == 1:\n",
    "            date = date.replace(day=1, month=date.month + 1)\n",
    "\n",
    "    return weekend_data, weekday_data"
   ]
  },
  {
   "cell_type": "markdown",
   "id": "bf0a8dd3",
   "metadata": {},
   "source": [
    "### 21년 10월"
   ]
  },
  {
   "cell_type": "code",
   "execution_count": 29,
   "id": "b302be0a",
   "metadata": {},
   "outputs": [
    {
     "name": "stdout",
     "output_type": "stream",
     "text": [
      "주말 데이터: ['02', '03', '09', '10', '16', '17', '23', '24', '30', '31']\n",
      "평일 데이터: ['01', '04', '05', '06', '07', '08', '11', '12', '13', '14', '15', '18', '19', '20', '21', '22', '25', '26', '27', '28', '29']\n"
     ]
    }
   ],
   "source": [
    "start_date = datetime.datetime(2021, 10, 1)\n",
    "end_date = datetime.datetime(2021, 10, 31)\n",
    "\n",
    "weekend, weekday = split_weekend_weekday(start_date, end_date)\n",
    "\n",
    "print(\"주말 데이터:\", weekend)\n",
    "print(\"평일 데이터:\", weekday)"
   ]
  },
  {
   "cell_type": "code",
   "execution_count": 30,
   "id": "5572ee5f",
   "metadata": {},
   "outputs": [],
   "source": [
    "# 주말, 평일 리스트\n",
    "wk_list_10 = [2, 3, 9, 10, 16, 17, 23, 24, 30, 31]\n",
    "wd_list_10 = [1, 4, 5, 6, 7, 8, 11, 12, 13, 14, 15, 18, 19, 20, 21, 22, 25, 26, 27, 28, 29]\n",
    "\n",
    "# 결과값 저장할 리스트\n",
    "wk_result_10 = []\n",
    "wd_result_10 = []\n",
    "\n",
    "for wk in wk_list_10:\n",
    "    result = df1[df1['기준_일'] == wk]\n",
    "    wk_result_10.append(result)\n",
    "    \n",
    "for wd in wd_list_10:\n",
    "    result = df1[df1['기준_일'] == wd]\n",
    "    wd_result_10.append(result)\n",
    "    \n",
    "# 주말, 평일 결과를 하나의 리스트로 통합\n",
    "wk_concat_10 = pd.concat([result for result in wk_result_10])\n",
    "wd_concat_10 = pd.concat([result for result in wd_result_10])"
   ]
  },
  {
   "cell_type": "code",
   "execution_count": 31,
   "id": "d84002f9",
   "metadata": {
    "scrolled": false
   },
   "outputs": [],
   "source": [
    "wk1 = wk_concat_10\n",
    "wk1.to_csv('유동인구데이터_21년10월_주말.csv', encoding='cp949')"
   ]
  },
  {
   "cell_type": "code",
   "execution_count": 32,
   "id": "c4c740de",
   "metadata": {},
   "outputs": [],
   "source": [
    "wd1 = wd_concat_10\n",
    "wd1.to_csv('유동인구데이터_21년10월_평일.csv', encoding='cp949')"
   ]
  },
  {
   "cell_type": "markdown",
   "id": "337f78eb",
   "metadata": {},
   "source": [
    "### 21년 11월"
   ]
  },
  {
   "cell_type": "code",
   "execution_count": 33,
   "id": "9fd808a3",
   "metadata": {},
   "outputs": [
    {
     "ename": "ValueError",
     "evalue": "month must be in 1..12",
     "output_type": "error",
     "traceback": [
      "\u001b[1;31m---------------------------------------------------------------------------\u001b[0m",
      "\u001b[1;31mValueError\u001b[0m                                Traceback (most recent call last)",
      "\u001b[1;32m~\\AppData\\Local\\Temp\\ipykernel_16520\\480125961.py\u001b[0m in \u001b[0;36m<module>\u001b[1;34m\u001b[0m\n\u001b[0;32m      2\u001b[0m \u001b[0mend_date\u001b[0m \u001b[1;33m=\u001b[0m \u001b[0mdatetime\u001b[0m\u001b[1;33m.\u001b[0m\u001b[0mdatetime\u001b[0m\u001b[1;33m(\u001b[0m\u001b[1;36m2021\u001b[0m\u001b[1;33m,\u001b[0m\u001b[1;36m11\u001b[0m\u001b[1;33m,\u001b[0m\u001b[1;36m30\u001b[0m\u001b[1;33m)\u001b[0m\u001b[1;33m\u001b[0m\u001b[1;33m\u001b[0m\u001b[0m\n\u001b[0;32m      3\u001b[0m \u001b[1;33m\u001b[0m\u001b[0m\n\u001b[1;32m----> 4\u001b[1;33m \u001b[0mweekend\u001b[0m\u001b[1;33m,\u001b[0m \u001b[0mweekday\u001b[0m \u001b[1;33m=\u001b[0m \u001b[0msplit_weekend_weekday\u001b[0m\u001b[1;33m(\u001b[0m\u001b[0mstart_date\u001b[0m\u001b[1;33m,\u001b[0m \u001b[0mend_date\u001b[0m\u001b[1;33m)\u001b[0m\u001b[1;33m\u001b[0m\u001b[1;33m\u001b[0m\u001b[0m\n\u001b[0m\u001b[0;32m      5\u001b[0m \u001b[1;33m\u001b[0m\u001b[0m\n\u001b[0;32m      6\u001b[0m \u001b[0mprint\u001b[0m\u001b[1;33m(\u001b[0m\u001b[1;34m\"주말 데이터:\"\u001b[0m\u001b[1;33m,\u001b[0m \u001b[0mweekend\u001b[0m\u001b[1;33m)\u001b[0m\u001b[1;33m\u001b[0m\u001b[1;33m\u001b[0m\u001b[0m\n",
      "\u001b[1;32m~\\AppData\\Local\\Temp\\ipykernel_16520\\3058274773.py\u001b[0m in \u001b[0;36msplit_weekend_weekday\u001b[1;34m(start_date, end_date)\u001b[0m\n\u001b[0;32m     13\u001b[0m         \u001b[1;31m# 다음달 1일로 이동\u001b[0m\u001b[1;33m\u001b[0m\u001b[1;33m\u001b[0m\u001b[0m\n\u001b[0;32m     14\u001b[0m         \u001b[1;32mif\u001b[0m \u001b[0mdate\u001b[0m\u001b[1;33m.\u001b[0m\u001b[0mday\u001b[0m \u001b[1;33m==\u001b[0m \u001b[1;36m1\u001b[0m\u001b[1;33m:\u001b[0m\u001b[1;33m\u001b[0m\u001b[1;33m\u001b[0m\u001b[0m\n\u001b[1;32m---> 15\u001b[1;33m             \u001b[0mdate\u001b[0m \u001b[1;33m=\u001b[0m \u001b[0mdate\u001b[0m\u001b[1;33m.\u001b[0m\u001b[0mreplace\u001b[0m\u001b[1;33m(\u001b[0m\u001b[0mday\u001b[0m\u001b[1;33m=\u001b[0m\u001b[1;36m1\u001b[0m\u001b[1;33m,\u001b[0m \u001b[0mmonth\u001b[0m\u001b[1;33m=\u001b[0m\u001b[0mdate\u001b[0m\u001b[1;33m.\u001b[0m\u001b[0mmonth\u001b[0m \u001b[1;33m+\u001b[0m \u001b[1;36m1\u001b[0m\u001b[1;33m)\u001b[0m\u001b[1;33m\u001b[0m\u001b[1;33m\u001b[0m\u001b[0m\n\u001b[0m\u001b[0;32m     16\u001b[0m \u001b[1;33m\u001b[0m\u001b[0m\n\u001b[0;32m     17\u001b[0m     \u001b[1;32mreturn\u001b[0m \u001b[0mweekend_data\u001b[0m\u001b[1;33m,\u001b[0m \u001b[0mweekday_data\u001b[0m\u001b[1;33m\u001b[0m\u001b[1;33m\u001b[0m\u001b[0m\n",
      "\u001b[1;31mValueError\u001b[0m: month must be in 1..12"
     ]
    }
   ],
   "source": [
    "start_date = datetime.datetime(2021,11,1)\n",
    "end_date = datetime.datetime(2021,11,30)\n",
    "\n",
    "weekend, weekday = split_weekend_weekday(start_date, end_date)\n",
    "\n",
    "print(\"주말 데이터:\", weekend)\n",
    "print(\"평일 데이터:\", weekday)"
   ]
  },
  {
   "cell_type": "code",
   "execution_count": 34,
   "id": "3ea14930",
   "metadata": {},
   "outputs": [],
   "source": [
    "wk_list_11 = []\n",
    "wd_list_11 = []\n",
    "\n",
    "wk_result_11 = []\n",
    "wd_result_11 = []\n",
    "\n",
    "for wk in wk_list_11:\n",
    "    result = df2[df2['기준_일'] == wk]\n",
    "    wk_result_11.append(result)\n",
    "    \n",
    "for wd in wd_list_11:\n",
    "    result = df2[df2['기준_일'] == wd]\n",
    "    wd_result_11.append(result)\n",
    "    \n",
    "wk_concat_11 = pd.concat([result for result in wk_result_11])\n",
    "wd_concat_11 = pd.concat([result for result in wd_result_11])\n",
    "\n",
    "wk2 = wk_concat_11\n",
    "wd2 = wd_concat_11\n",
    "wk2.to_csv('유동인구데이터_21년11월_주말.csv', encoding='cp949')\n",
    "wd2.to_csv('유동인구데이터_21년11월_평일.csv', encoding='cp949')"
   ]
  },
  {
   "cell_type": "markdown",
   "id": "9d45b691",
   "metadata": {},
   "source": [
    "### 21년 12월"
   ]
  },
  {
   "cell_type": "code",
   "execution_count": 35,
   "id": "2748f6f8",
   "metadata": {},
   "outputs": [
    {
     "name": "stdout",
     "output_type": "stream",
     "text": [
      "주말 데이터: ['04', '05', '11', '12', '18', '19', '25', '26']\n",
      "평일 데이터: ['01', '02', '03', '06', '07', '08', '09', '10', '13', '14', '15', '16', '17', '20', '21', '22', '23', '24', '27', '28', '29', '30', '31']\n"
     ]
    }
   ],
   "source": [
    "start_date = datetime.datetime(2021, 12, 1)\n",
    "end_date = datetime.datetime(2021, 12, 31)\n",
    "\n",
    "weekend, weekday = split_weekend_weekday(start_date, end_date)\n",
    "\n",
    "print(\"주말 데이터:\", weekend)\n",
    "print(\"평일 데이터:\", weekday)"
   ]
  },
  {
   "cell_type": "code",
   "execution_count": 13,
   "id": "572c328e",
   "metadata": {},
   "outputs": [],
   "source": [
    "wk_list_12 = [4,5,11,12,18,19,25,26]\n",
    "wd_list_12 = [1,2,3,6,7,8,9,10,13,14,15,16,17,20,21,22,23,24,27,28,29,30, 31]\n",
    "\n",
    "wk_result_12 = []\n",
    "wd_result_12 = []\n",
    "\n",
    "for wk in wk_list_12:\n",
    "    result = df3[df3['기준_일'] == wk]\n",
    "    wk_result_12.append(result)\n",
    "    \n",
    "for wd in wd_list_12:\n",
    "    result = df3[df3['기준_일'] == wd]\n",
    "    wd_result_12.append(result)\n",
    "    \n",
    "wk_concat_12 = pd.concat([result for result in wk_result_12])\n",
    "wd_concat_12 = pd.concat([result for result in wd_result_12])\n",
    "\n",
    "wk3 = wk_concat_12\n",
    "wd3 = wd_concat_12\n",
    "wk3.to_csv('유동인구데이터_21년12월_주말.csv', encoding='cp949')\n",
    "wd3.to_csv('유동인구데이터_21년12월_평일.csv', encoding='cp949')"
   ]
  },
  {
   "cell_type": "markdown",
   "id": "2cfb5804",
   "metadata": {},
   "source": [
    "### 22년 1월"
   ]
  },
  {
   "cell_type": "code",
   "execution_count": 14,
   "id": "10c49850",
   "metadata": {},
   "outputs": [
    {
     "name": "stdout",
     "output_type": "stream",
     "text": [
      "주말 데이터: ['01', '02', '08', '09', '15', '16', '22', '23', '29', '30']\n",
      "평일 데이터: ['03', '04', '05', '06', '07', '10', '11', '12', '13', '14', '17', '18', '19', '20', '21', '24', '25', '26', '27', '28', '31']\n"
     ]
    }
   ],
   "source": [
    "start_date = datetime.datetime(2022, 1, 1)\n",
    "end_date = datetime.datetime(2022, 1, 31)\n",
    "\n",
    "weekend, weekday = split_weekend_weekday(start_date, end_date)\n",
    "\n",
    "print(\"주말 데이터:\", weekend)\n",
    "print(\"평일 데이터:\", weekday)"
   ]
  },
  {
   "cell_type": "code",
   "execution_count": 15,
   "id": "50b09b53",
   "metadata": {},
   "outputs": [],
   "source": [
    "wk_list_1 = [1,2,8,9,15,16,22,23,29,30]\n",
    "wd_list_1 = [3,4,5,6,7,10,11,12,13,14,17,18,19,20,21,24,25,26,27,28,31]\n",
    "\n",
    "wk_result_1 = []\n",
    "wd_result_1 = []\n",
    "\n",
    "for wk in wk_list_1:\n",
    "    result = df4[df4['기준_일'] == wk]\n",
    "    wk_result_1.append(result)\n",
    "    \n",
    "for wd in wd_list_1:\n",
    "    result = df4[df4['기준_일'] == wd]\n",
    "    wd_result_1.append(result)\n",
    "    \n",
    "wk_concat_1 = pd.concat([result for result in wk_result_1])\n",
    "wd_concat_1 = pd.concat([result for result in wd_result_1])\n",
    "\n",
    "wk4 = wk_concat_1\n",
    "wd4 = wd_concat_1\n",
    "wk4.to_csv('유동인구데이터_22년1월_주말.csv', encoding='cp949')\n",
    "wd4.to_csv('유동인구데이터_22년1월_평일.csv', encoding='cp949')"
   ]
  },
  {
   "cell_type": "markdown",
   "id": "bcc19580",
   "metadata": {},
   "source": [
    "### 22년 2월"
   ]
  },
  {
   "cell_type": "code",
   "execution_count": 16,
   "id": "d7c0c4d2",
   "metadata": {},
   "outputs": [
    {
     "name": "stdout",
     "output_type": "stream",
     "text": [
      "주말 데이터: ['05', '06', '12', '13', '19', '20', '26', '27']\n",
      "평일 데이터: ['01', '02', '03', '04', '07', '08', '09', '10', '11', '14', '15', '16', '17', '18', '21', '22', '23', '24', '25', '28']\n"
     ]
    }
   ],
   "source": [
    "start_date = datetime.datetime(2022, 2, 1)\n",
    "end_date = datetime.datetime(2022, 2, 28)\n",
    "\n",
    "weekend, weekday = split_weekend_weekday(start_date, end_date)\n",
    "\n",
    "print(\"주말 데이터:\", weekend)\n",
    "print(\"평일 데이터:\", weekday)"
   ]
  },
  {
   "cell_type": "code",
   "execution_count": 17,
   "id": "3d741286",
   "metadata": {},
   "outputs": [],
   "source": [
    "wk_list_2 = [5,6,12,13,19,20,26,27]\n",
    "wd_list_2 = [1,2,3,4,7,8,9,10,11,14,15,16,17,18,21,22,23,24,25,28]\n",
    "\n",
    "wk_result_2 = []\n",
    "wd_result_2 = []\n",
    "\n",
    "for wk in wk_list_2:\n",
    "    result = df5[df5['기준_일'] == wk]\n",
    "    wk_result_2.append(result)\n",
    "    \n",
    "for wd in wd_list_2:\n",
    "    result = df5[df5['기준_일'] == wd]\n",
    "    wd_result_2.append(result)\n",
    "    \n",
    "wk_concat_2 = pd.concat([result for result in wk_result_2])\n",
    "wd_concat_2 = pd.concat([result for result in wd_result_2])\n",
    "\n",
    "wk5 = wk_concat_2\n",
    "wd5 = wd_concat_2\n",
    "wk5.to_csv('유동인구데이터_22년2월_주말.csv', encoding='cp949')\n",
    "wd5.to_csv('유동인구데이터_22년2월_평일.csv', encoding='cp949')"
   ]
  },
  {
   "cell_type": "markdown",
   "id": "2f50fc4e",
   "metadata": {},
   "source": [
    "### 22년 3월"
   ]
  },
  {
   "cell_type": "code",
   "execution_count": 18,
   "id": "64c7099f",
   "metadata": {},
   "outputs": [
    {
     "name": "stdout",
     "output_type": "stream",
     "text": [
      "주말 데이터: ['05', '06', '12', '13', '19', '20', '26', '27']\n",
      "평일 데이터: ['01', '02', '03', '04', '07', '08', '09', '10', '11', '14', '15', '16', '17', '18', '21', '22', '23', '24', '25', '28', '29', '30', '31']\n"
     ]
    }
   ],
   "source": [
    "start_date = datetime.datetime(2022, 3, 1)\n",
    "end_date = datetime.datetime(2022, 3, 31)\n",
    "\n",
    "weekend, weekday = split_weekend_weekday(start_date, end_date)\n",
    "\n",
    "print(\"주말 데이터:\", weekend)\n",
    "print(\"평일 데이터:\", weekday)"
   ]
  },
  {
   "cell_type": "code",
   "execution_count": 19,
   "id": "4ac19417",
   "metadata": {},
   "outputs": [],
   "source": [
    "wk_list_3 = [5,6,12,13,19,20,26,27]\n",
    "wd_list_3 = [1,2,3,4,7,8,9,10,11,14,15,16,17,18,21,22,23,24,25,28,29,30,31]\n",
    "\n",
    "wk_result_3 = []\n",
    "wd_result_3 = []\n",
    "\n",
    "for wk in wk_list_3:\n",
    "    result = df6[df6['기준_일'] == wk]\n",
    "    wk_result_3.append(result)\n",
    "    \n",
    "for wd in wd_list_3:\n",
    "    result = df6[df6['기준_일'] == wd]\n",
    "    wd_result_3.append(result)\n",
    "    \n",
    "wk_concat_3 = pd.concat([result for result in wk_result_3])\n",
    "wd_concat_3 = pd.concat([result for result in wd_result_3])\n",
    "\n",
    "wk6 = wk_concat_3\n",
    "wd6 = wd_concat_3\n",
    "wk6.to_csv('유동인구데이터_22년3월_주말.csv', encoding='cp949')\n",
    "wd6.to_csv('유동인구데이터_22년3월_평일.csv', encoding='cp949')"
   ]
  },
  {
   "cell_type": "code",
   "execution_count": null,
   "id": "137b2093",
   "metadata": {},
   "outputs": [],
   "source": []
  }
 ],
 "metadata": {
  "kernelspec": {
   "display_name": "Python 3 (ipykernel)",
   "language": "python",
   "name": "python3"
  },
  "language_info": {
   "codemirror_mode": {
    "name": "ipython",
    "version": 3
   },
   "file_extension": ".py",
   "mimetype": "text/x-python",
   "name": "python",
   "nbconvert_exporter": "python",
   "pygments_lexer": "ipython3",
   "version": "3.9.13"
  }
 },
 "nbformat": 4,
 "nbformat_minor": 5
}
